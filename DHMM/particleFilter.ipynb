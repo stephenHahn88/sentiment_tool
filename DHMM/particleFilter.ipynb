{
 "cells": [
  {
   "cell_type": "code",
   "execution_count": 2,
   "metadata": {
    "collapsed": true,
    "pycharm": {
     "name": "#%%\n"
    }
   },
   "outputs": [],
   "source": [
    "import numpy as np\n",
    "from numpy.random import uniform, multivariate_normal, dirichlet\n",
    "from numpy.linalg import norm\n",
    "from gatherMatrices import getMixtureEmissionMatrices\n",
    "import pickle\n",
    "\n",
    "np.set_printoptions(linewidth=100000)\n",
    "\n",
    "with open(\"../data/allDF.pickle\", \"rb\") as f:\n",
    "    df = pickle.load(f)\n",
    "\n",
    "emissionMatrix = getMixtureEmissionMatrices(df)"
   ]
  },
  {
   "cell_type": "code",
   "execution_count": 66,
   "outputs": [],
   "source": [
    "def create_uniform_particles(\n",
    "        a_range, f_range, s_range,\n",
    "        n_range, i_range,\n",
    "        l_range, j_range,\n",
    "        N\n",
    "):\n",
    "    particles = np.empty((N, 7))\n",
    "    for i, (var, range) in enumerate(locals().items()):\n",
    "        if var[-5:] != \"range\": break\n",
    "        particles[:, i] = uniform(range[0], range[1], size=N)\n",
    "    for i, row in enumerate(particles):\n",
    "        particles[i, :] = row / sum(row)\n",
    "\n",
    "    return particles"
   ],
   "metadata": {
    "collapsed": false,
    "pycharm": {
     "name": "#%%\n"
    }
   }
  },
  {
   "cell_type": "code",
   "execution_count": 67,
   "outputs": [],
   "source": [
    "def predict(particles, phi, epsilon_var):\n",
    "    \"\"\"\n",
    "    Move alpha forward one time step according to alpha_t = phi * alpha_t-1 + epsilon\n",
    "    Note: this operation is in-place\n",
    "    \"\"\"\n",
    "    for i, alpha_t_1 in enumerate(particles):\n",
    "        epsilon = multivariate_normal(\n",
    "            mean=[0 for _ in range(len(alpha_t_1))],\n",
    "            cov=np.eye(len(alpha_t_1)) * epsilon_var\n",
    "        )\n",
    "        particles[i, :] = np.matmul(phi, alpha_t_1.T).squeeze() + epsilon\n"
   ],
   "metadata": {
    "collapsed": false,
    "pycharm": {
     "name": "#%%\n"
    }
   }
  },
  {
   "cell_type": "code",
   "execution_count": null,
   "outputs": [],
   "source": [
    "def estimateParticleWeight(alpha: np.array, harmony: int, N=50) -> float:\n",
    "    \"\"\"\n",
    "    Approximate the weight of a given particle associated with a given harmony\n",
    "    :param alpha: the alpha value associated with the particle\n",
    "    :param harmony: the observed harmony\n",
    "    :param N: number of emission particles used to estimate the transition particle weights\n",
    "    :return: Estimated weight of the given particle\n",
    "    \"\"\"\n",
    "    samples = []\n",
    "    for _ in range(N):\n",
    "        p = dirichlet(alpha)\n",
    "        h_dist = np.matmul(p, emissionMatrix).squeeze()\n",
    "        h_dist = h_dist / norm(h_dist, ord=1)\n",
    "        samples.append(h_dist[harmony]) #TODO: check that harmony index is same throughout\n",
    "    return sum(samples) / len(samples)\n",
    "\n",
    "\n",
    "def update(particles, harmony, weights):\n",
    "    for i, particle in enumerate(particles):\n",
    "        weights[i] *= estimateParticleWeight(particle, harmony, 50)\n",
    "    weights += 1e-300\n",
    "    weights /= sum(weights)"
   ],
   "metadata": {
    "collapsed": false,
    "pycharm": {
     "name": "#%%\n"
    }
   }
  },
  {
   "cell_type": "code",
   "execution_count": 69,
   "outputs": [
    {
     "name": "stdout",
     "output_type": "stream",
     "text": [
      "[[0.23872624 0.23963555 0.07825378 0.00709433 0.18740726 0.1242051  0.12467774]\n",
      " [0.23128638 0.03644153 0.14091685 0.19241192 0.18806878 0.19888903 0.0119855 ]\n",
      " [0.12836095 0.0131849  0.05941033 0.02482454 0.10896621 0.34926902 0.31598404]\n",
      " [0.20518802 0.09750528 0.12424497 0.12532539 0.10431097 0.18986809 0.15355727]]\n",
      "[[ 0.33677835  0.10808977  0.14443352 -0.21392147  0.20637276  0.28013079  0.23895313]\n",
      " [ 0.32933998 -0.02085002  0.28734317  0.27429818  0.06815903 -0.02813378  0.13656152]\n",
      " [ 0.16267748 -0.08834668 -0.00616265 -0.09097869  0.09088773  0.3003593   0.34493424]\n",
      " [ 0.17848427  0.08488015 -0.0625159   0.20672036  0.11266026  0.20676925  0.08006055]]\n"
     ]
    }
   ],
   "source": [
    "particles = create_uniform_particles(\n",
    "    (0, 1),\n",
    "    (0, 1),\n",
    "    (0, 1),\n",
    "    (0, 1),\n",
    "    (0, 1),\n",
    "    (0, 1),\n",
    "    (0, 1),\n",
    "    4\n",
    ")\n",
    "print(particles)\n",
    "predict(particles, np.eye(7), 0.01)\n",
    "print(particles)"
   ],
   "metadata": {
    "collapsed": false,
    "pycharm": {
     "name": "#%%\n"
    }
   }
  }
 ],
 "metadata": {
  "kernelspec": {
   "display_name": "Python 3",
   "language": "python",
   "name": "python3"
  },
  "language_info": {
   "codemirror_mode": {
    "name": "ipython",
    "version": 2
   },
   "file_extension": ".py",
   "mimetype": "text/x-python",
   "name": "python",
   "nbconvert_exporter": "python",
   "pygments_lexer": "ipython2",
   "version": "2.7.6"
  }
 },
 "nbformat": 4,
 "nbformat_minor": 0
}