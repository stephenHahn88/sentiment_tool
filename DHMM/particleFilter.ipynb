{
 "cells": [
  {
   "cell_type": "code",
   "execution_count": 2,
   "metadata": {
    "collapsed": true,
    "pycharm": {
     "name": "#%%\n"
    }
   },
   "outputs": [
    {
     "name": "stdout",
     "output_type": "stream",
     "text": [
      "{'bVII': 0, 'IV': 1, 'viio/ii': 2, 'bvii': 3, 'ii': 4, 'vi': 5, 'v': 6, 'iv': 7, 'I': 8, 'iii': 9, 'viio/V': 10, 'i': 11, 'V': 12, 'vii': 13, 'bVI': 14, 'bIII': 15, 'START': -1, 'PAD': -2}\n",
      "{'anger': 0, 'fear': 1, 'sadness': 2, 'none': 3, 'irony': 4, 'love': 5, 'joy': 6}\n"
     ]
    }
   ],
   "source": [
    "\"\"\"\n",
    "BASED ON https://github.com/rlabbe/Kalman-and-Bayesian-Filters-in-Python/blob/master/12-Particle-Filters.ipynb\n",
    "\"\"\"\n",
    "\n",
    "import numpy as np\n",
    "from numpy.random import uniform, multivariate_normal, dirichlet, random, randint\n",
    "from numpy.linalg import norm\n",
    "\n",
    "from gatherMatrices import getMixtureEmissionMatrices\n",
    "import pickle\n",
    "\n",
    "np.set_printoptions(linewidth=100000)\n",
    "\n",
    "with open(\"../data/allDF.pickle\", \"rb\") as f:\n",
    "    df = pickle.load(f)\n",
    "\n",
    "emissionMatrix, VtoI, ItoV, EtoI = getMixtureEmissionMatrices(df)\n",
    "print(VtoI)\n",
    "print(EtoI)"
   ]
  },
  {
   "cell_type": "code",
   "execution_count": 3,
   "outputs": [],
   "source": [
    "def create_uniform_particles(\n",
    "        a_range, f_range, s_range,\n",
    "        n_range, i_range,\n",
    "        l_range, j_range,\n",
    "        N\n",
    "):\n",
    "    particles = np.empty((N, 7))\n",
    "    for i, (var, range) in enumerate(locals().items()):\n",
    "        if var[-5:] != \"range\": break\n",
    "        particles[:, i] = uniform(range[0], range[1], size=N)\n",
    "    # for i, row in enumerate(particles):\n",
    "    #     particles[i, :] = row / sum(row)\n",
    "\n",
    "    return particles"
   ],
   "metadata": {
    "collapsed": false,
    "pycharm": {
     "name": "#%%\n"
    }
   }
  },
  {
   "cell_type": "code",
   "execution_count": 4,
   "outputs": [],
   "source": [
    "def predict(particles, phi, constant, epsilon_var, max_alpha=10):\n",
    "    \"\"\"\n",
    "    Move alpha forward one time step according to alpha_t = phi * alpha_t-1 + epsilon\n",
    "    Note: this operation is in-place\n",
    "    \"\"\"\n",
    "    for i, alpha_t_1 in enumerate(particles):\n",
    "        while True:\n",
    "            epsilon = multivariate_normal(\n",
    "                mean=[0 for _ in range(len(alpha_t_1))],\n",
    "                cov=np.eye(len(alpha_t_1)) * epsilon_var\n",
    "            )\n",
    "            alpha_t = np.matmul(phi, alpha_t_1.T).squeeze() + epsilon + constant\n",
    "            # print(alpha_t)\n",
    "            # break\n",
    "            if np.all(alpha_t > 0) and np.all(alpha_t < max_alpha):\n",
    "                break\n",
    "\n",
    "        particles[i, :] = alpha_t\n"
   ],
   "metadata": {
    "collapsed": false,
    "pycharm": {
     "name": "#%%\n"
    }
   }
  },
  {
   "cell_type": "code",
   "execution_count": 5,
   "outputs": [],
   "source": [
    "def estimateParticleWeight(alpha: np.array, harmony: int, N=300) -> float:\n",
    "    \"\"\"\n",
    "    Approximate the weight of a given particle associated with a given harmony\n",
    "    :param alpha: the alpha value associated with the particle\n",
    "    :param harmony: the observed harmony\n",
    "    :param N: number of emission particles used to estimate the transition particle weights\n",
    "    :return: Estimated weight of the given particle\n",
    "    \"\"\"\n",
    "    samples = []\n",
    "    for _ in range(N):\n",
    "        p = dirichlet(alpha)\n",
    "        h_dist = np.matmul(p, emissionMatrix).squeeze()\n",
    "        h_dist = h_dist / norm(h_dist, ord=1)\n",
    "        samples.append(h_dist[harmony]) #TODO: check that harmony index is same throughout\n",
    "    return sum(samples) / len(samples)\n",
    "\n",
    "\n",
    "def update(particles, harmony, weights, num_emission_particles=300):\n",
    "    for i, particle in enumerate(particles):\n",
    "        weights[i] *= estimateParticleWeight(particle, harmony, num_emission_particles)\n",
    "    weights += 1e-300\n",
    "    weights /= sum(weights)"
   ],
   "metadata": {
    "collapsed": false,
    "pycharm": {
     "name": "#%%\n"
    }
   }
  },
  {
   "cell_type": "code",
   "execution_count": 6,
   "outputs": [],
   "source": [
    "def estimate(particles, weights):\n",
    "    mean = np.average(particles, weights=weights, axis=0)\n",
    "    var = np.average((particles - mean) ** 2, weights=weights, axis=0)\n",
    "    # mean = mean / sum(mean)\n",
    "    return mean, var"
   ],
   "metadata": {
    "collapsed": false,
    "pycharm": {
     "name": "#%%\n"
    }
   }
  },
  {
   "cell_type": "code",
   "execution_count": 7,
   "outputs": [],
   "source": [
    "def resample(particles, weights, indexes):\n",
    "    particles[:] = particles[indexes]\n",
    "    weights.resize(len(particles))\n",
    "    weights.fill(1.0 / len(weights))"
   ],
   "metadata": {
    "collapsed": false,
    "pycharm": {
     "name": "#%%\n"
    }
   }
  },
  {
   "cell_type": "code",
   "execution_count": 8,
   "outputs": [],
   "source": [
    "def effective_N(weights):\n",
    "    return 1.0 / np.sum(np.square(weights))"
   ],
   "metadata": {
    "collapsed": false,
    "pycharm": {
     "name": "#%%\n"
    }
   }
  },
  {
   "cell_type": "code",
   "execution_count": 9,
   "outputs": [],
   "source": [
    "from filterpy.monte_carlo import systematic_resample\n",
    "from numpy.random import randn\n",
    "import scipy.stats\n",
    "import matplotlib.pyplot as plt\n",
    "from tqdm.notebook import tqdm\n",
    "\n",
    "def filter_loop(\n",
    "        particles,\n",
    "        phi,\n",
    "        constant,\n",
    "        epsilon_var,\n",
    "        max_alpha,\n",
    "        harmony,\n",
    "        num_emission_particles,\n",
    "        num_particles,\n",
    "        weights\n",
    "):\n",
    "    predict(particles, phi, constant, epsilon_var, max_alpha)\n",
    "    update(particles, harmony, weights, num_emission_particles)\n",
    "\n",
    "    if effective_N(weights) < num_particles/2:\n",
    "        indexes = systematic_resample(weights)\n",
    "        resample(particles, weights, indexes)\n",
    "        assert np.allclose(weights, 1/num_particles)\n",
    "\n",
    "    mu, var = estimate(particles, weights)\n",
    "    return mu, var\n",
    "\n",
    "def run_filter(\n",
    "        num_particles: int,\n",
    "        harmonies: list[int],\n",
    "        phi: np.array=np.eye(7),\n",
    "        constant: np.array=np.zeros((7,)),\n",
    "        epsilon_var=0.1,\n",
    "        max_alpha=10,\n",
    "        num_emission_particles=300,\n",
    "        plot=True,\n",
    "        burn_in=10\n",
    "):\n",
    "    plt.figure()\n",
    "\n",
    "    particles = create_uniform_particles(\n",
    "        (0, max_alpha), (0, max_alpha), (0, max_alpha), (0, max_alpha),\n",
    "        (0, max_alpha), (0, max_alpha), (0, max_alpha),\n",
    "        num_particles\n",
    "    )\n",
    "    weights = np.ones(num_particles) / num_particles\n",
    "\n",
    "    estimates = []\n",
    "    for _ in (pbar := tqdm(range(burn_in), total=burn_in)):\n",
    "        pbar.set_description(f\"Burn in for {burn_in} steps\")\n",
    "        filter_loop(particles, phi, constant, epsilon_var, max_alpha, harmonies[0], num_emission_particles, num_particles, weights)\n",
    "    for i, harmony in (pbar := tqdm(enumerate(harmonies), total=len(harmonies))):\n",
    "        pbar.set_description(f\"Running filter\")\n",
    "        mu, var = filter_loop(particles, phi, constant, epsilon_var, max_alpha, harmony, num_emission_particles, num_particles, weights)\n",
    "        estimates.append(mu)\n",
    "\n",
    "    estimates = np.array(estimates)\n",
    "    print(estimates)\n",
    "    if plot:\n",
    "        plt.subplot(2, 1, 1)\n",
    "        plt.stackplot(\n",
    "            range(len(harmonies)),\n",
    "            estimates[:, 0], estimates[:, 1], estimates[:, 2],\n",
    "            estimates[:, 3], estimates[:, 4], estimates[:, 5], estimates[:, 6]\n",
    "        )\n",
    "        plt.subplot(2, 1, 2)\n",
    "        for col in estimates.T:\n",
    "            plt.plot(range(len(harmonies)), col, ls=(0, (1, 2)))\n",
    "        plt.show()\n",
    "\n"
   ],
   "metadata": {
    "collapsed": false,
    "pycharm": {
     "name": "#%%\n"
    }
   }
  },
  {
   "cell_type": "code",
   "execution_count": 10,
   "outputs": [
    {
     "name": "stderr",
     "output_type": "stream",
     "text": [
      "WARNING (pytensor.configdefaults): g++ not available, if using conda: `conda install m2w64-toolchain`\n",
      "WARNING (pytensor.configdefaults): g++ not detected!  PyTensor will be unable to compile C-implementations and will default to Python. Performance may be severely degraded. To remove this warning, set PyTensor flags cxx to an empty string.\n",
      "WARNING (pytensor.tensor.blas): Using NumPy C-API based implementation for BLAS functions.\n"
     ]
    }
   ],
   "source": [
    "from statsmodels.tsa.api import VAR\n",
    "import pandas as pd\n",
    "from timeSeries import loadAlphas, myVAR"
   ],
   "metadata": {
    "collapsed": false,
    "pycharm": {
     "name": "#%%\n"
    }
   }
  },
  {
   "cell_type": "code",
   "execution_count": 11,
   "outputs": [
    {
     "name": "stdout",
     "output_type": "stream",
     "text": [
      "[[ 0.161  0.005  0.004  0.006  0.009  0.089  0.007]\n",
      " [-0.005  0.158  0.003  0.001  0.005  0.048  0.005]\n",
      " [-0.025 -0.001  0.133 -0.003 -0.003 -0.024  0.001]\n",
      " [ 0.175 -0.014  0.042  0.16   0.004 -0.042  0.03 ]\n",
      " [ 0.06   0.117  0.082 -0.03   0.063 -0.827 -0.186]\n",
      " [-0.015 -0.    -0.012  0.002  0.006  0.215  0.007]\n",
      " [-0.019 -0.019 -0.033 -0.004 -0.002 -0.024  0.173]]\n",
      "[-0.102 -0.06  -0.015  0.031  0.067  0.564  0.11 ]\n"
     ]
    }
   ],
   "source": [
    "alphas: pd.DataFrame = loadAlphas(32, 3)\n",
    "alphas: pd.DataFrame = alphas.drop(columns=[\"index\"])\n",
    "phi, constant = myVAR(alphas, set_lag_num=1)\n",
    "phi /= np.amax(np.abs(phi)) + 1\n",
    "phi = phi.round(3)\n",
    "constant /= np.amax(np.abs(constant)) + 1\n",
    "constant = constant.round(3)\n",
    "print(phi)\n",
    "print(constant)"
   ],
   "metadata": {
    "collapsed": false,
    "pycharm": {
     "name": "#%%\n"
    }
   }
  },
  {
   "cell_type": "code",
   "execution_count": 14,
   "outputs": [
    {
     "data": {
      "text/plain": "  0%|          | 0/10 [00:00<?, ?it/s]",
      "application/vnd.jupyter.widget-view+json": {
       "version_major": 2,
       "version_minor": 0,
       "model_id": "b3f95bfa2e18493fb42e3f2b5e42a6e6"
      }
     },
     "metadata": {},
     "output_type": "display_data"
    },
    {
     "data": {
      "text/plain": "  0%|          | 0/60 [00:00<?, ?it/s]",
      "application/vnd.jupyter.widget-view+json": {
       "version_major": 2,
       "version_minor": 0,
       "model_id": "9a9dcb08b5f044718037aa06496023f2"
      }
     },
     "metadata": {},
     "output_type": "display_data"
    },
    {
     "name": "stdout",
     "output_type": "stream",
     "text": [
      "[[1.90751566 4.88439895 3.30103744 4.35121036 7.72132509 9.56253028 5.49620385]\n",
      " [1.88480986 4.85325001 3.50941663 4.27134881 7.65120529 9.59447845 5.72166248]\n",
      " [1.77947904 5.02682727 3.64701483 4.16804783 7.71623583 9.59535936 5.79001771]\n",
      " [1.85131598 4.85784901 3.40880749 4.39085372 7.93821114 9.66196727 5.89138889]\n",
      " [1.93207855 4.84419878 3.57566678 4.35423968 7.91031625 9.78259327 6.06489061]\n",
      " [2.00378544 4.75519499 3.65977303 4.09309747 7.92663434 9.87214223 6.13554512]\n",
      " [1.87480642 4.48777511 3.58883452 4.10332501 7.82633645 9.81788802 6.39885273]\n",
      " [1.80875935 4.23881286 3.29308908 3.98662079 8.03333636 9.91526732 6.58903308]\n",
      " [1.8178832  4.19065008 3.09748643 4.08325883 7.9333473  9.81790123 6.67258314]\n",
      " [1.76994816 4.08639954 3.29605945 4.07571478 8.02377674 9.90280493 6.80419009]\n",
      " [1.82111363 3.91470479 3.40131435 3.83134515 8.01737019 9.84624071 6.99408501]\n",
      " [1.69209818 3.93798841 3.22915623 3.75710528 8.00952819 9.90566282 7.1311405 ]\n",
      " [1.6748182  3.89228867 3.35742305 3.88395862 8.07742437 9.89361052 7.19152701]\n",
      " [1.75471149 3.87096032 3.29457808 3.85475582 8.08335297 9.93657914 7.23922879]\n",
      " [1.7612451  3.85683029 3.28284113 3.92967917 7.94062184 9.87419333 7.30744728]\n",
      " [1.60165671 3.73433911 3.36162416 4.01161867 7.76784303 9.79556684 7.49820581]\n",
      " [1.63778016 3.78018192 3.40476894 3.85529429 7.90354193 9.76449264 7.5548991 ]\n",
      " [1.51472888 3.64742478 3.33689405 3.94403191 8.05826879 9.78015165 7.71804135]\n",
      " [1.44717657 3.52308352 3.53458451 3.76839191 8.20023954 9.80909743 7.479784  ]\n",
      " [1.32441759 3.43049669 3.62357271 3.64390043 8.17300648 9.82405961 7.43104823]\n",
      " [1.58008691 3.55652515 3.75232128 3.01185233 7.87173981 9.8428974  7.30403975]\n",
      " [2.21661498 3.51365975 4.06526385 2.70593681 7.87476914 9.90102266 7.47729388]\n",
      " [2.69611859 3.41071958 4.04410406 2.56491306 7.59915273 9.86653371 7.56140116]\n",
      " [3.31000587 3.3027257  3.9312239  2.33483404 7.16879206 9.76914533 7.69657937]\n",
      " [3.76010683 3.26394092 3.6980048  2.13392807 7.00987447 9.86557869 7.77457201]\n",
      " [4.34658492 3.11453127 3.11476995 1.9875848  6.58784038 9.93198654 7.87279856]\n",
      " [5.44989986 2.86010544 2.83859577 1.62497511 5.63587487 9.9197677  8.04902397]\n",
      " [6.01516171 2.73285099 2.5538401  1.62154852 5.24476665 9.84626261 8.31287646]\n",
      " [6.32700147 2.66886137 2.40343234 1.7830861  4.97541325 9.925198   8.46781454]\n",
      " [6.55631179 2.66964197 2.1441731  1.82160933 4.93114834 9.86950974 8.7024844 ]\n",
      " [6.56761265 2.47212201 1.80629112 1.74256865 4.75255977 9.88291784 8.93107359]\n",
      " [6.89993114 2.7676631  1.60839777 1.67894376 4.74403467 9.89914261 8.87697381]\n",
      " [6.98268198 2.74156651 1.42063881 1.77445848 4.57345921 9.84073387 8.86094677]\n",
      " [7.17493686 2.71275294 1.21583991 1.90912477 4.60738631 9.80902796 8.68543817]\n",
      " [7.23621497 2.89480147 1.0908447  1.72961279 4.54428327 9.8044446  8.82995066]\n",
      " [7.22050041 2.86950746 1.24696911 1.81586311 4.78219034 9.92558337 8.94877007]\n",
      " [7.18367267 2.99809592 1.28962533 1.99830819 4.83882162 9.85372931 8.90826649]\n",
      " [7.24560893 3.2843456  1.33614199 1.99281029 5.07383429 9.87653292 9.02643019]\n",
      " [7.0684134  2.93504399 1.46413707 2.03792419 5.12282626 9.80996233 9.36795568]\n",
      " [7.08277633 3.2113604  1.58883624 1.8938199  5.23862676 9.79195154 9.27862571]\n",
      " [6.91619675 3.29554758 1.42798256 1.8434065  5.22374979 9.81627812 9.35260085]\n",
      " [6.69259443 3.17755913 1.44571566 1.86933902 5.24211867 9.89619466 9.34442237]\n",
      " [6.52732481 3.2745634  1.5423577  1.8864498  5.23069462 9.89624349 9.39480998]\n",
      " [6.3019807  3.26363865 1.39424218 1.83693017 5.41465357 9.86831884 9.34088011]\n",
      " [6.3938983  3.11193148 1.5170905  1.84396971 5.583761   9.90031738 9.38532071]\n",
      " [6.18275615 2.98752452 1.43570386 1.92707565 5.55005899 9.7880899  9.23192765]\n",
      " [5.9785924  2.81356957 1.46996954 2.03108835 5.68788562 9.73243093 9.30229702]\n",
      " [5.88812404 2.75366875 1.50558647 1.90075547 5.78141359 9.74974001 9.34080997]\n",
      " [5.8337981  2.48554691 1.45763239 1.88381469 5.87012593 9.81044375 9.39086837]\n",
      " [5.39293854 2.34833134 1.37023035 1.91547801 5.97062127 9.89423273 9.2784996 ]\n",
      " [5.26871887 2.47664816 1.43871301 2.11497381 6.22040301 9.82649855 9.28769302]\n",
      " [4.95809012 2.35241979 1.56323994 2.12730372 6.26966175 9.88063222 9.38438068]\n",
      " [4.70180452 2.27408574 1.6346955  2.04475928 6.29536375 9.77756197 9.40069292]\n",
      " [4.44441201 2.1811647  1.52694235 2.25340937 6.25349719 9.79049508 9.36652576]\n",
      " [4.44992461 2.31967262 1.40420368 2.27896695 5.99302697 9.76959252 9.13358341]\n",
      " [4.21809537 2.38920701 1.68347679 2.3071602  5.9535293  9.84645023 8.99917593]\n",
      " [4.43861172 2.39497367 1.66318662 2.24641413 5.90106991 9.85385484 9.09228165]\n",
      " [4.48929789 2.34292164 1.66760953 2.13091384 5.91781901 9.80163657 9.15501856]\n",
      " [4.40684652 2.37594243 1.66826156 2.03270364 5.9171435  9.78015227 8.98042094]\n",
      " [4.19634187 2.25294542 1.56283574 2.24139499 5.7850471  9.83174709 9.02216753]]\n"
     ]
    },
    {
     "data": {
      "text/plain": "<Figure size 432x288 with 2 Axes>",
      "image/png": "[encoded data removed]"
     },
     "metadata": {
      "needs_background": "light"
     },
     "output_type": "display_data"
    }
   ],
   "source": [
    "# phi = np.array([\n",
    "#     [1, 0, 0, 0, 0, 0, 0],\n",
    "#     [0, 1, 0, 0, 0, 0, 0],\n",
    "#     [0, 0, 1, 0, 0, 0, 0],\n",
    "#     [0, 0, 0, 1, 0, 0, 0],\n",
    "#     [0, 0, 0, 0, 1, 0, 0],\n",
    "#     [0, 0, 0, 0, 0, 1, 0],\n",
    "#     [0, 0, 0, 0, 0, 0, 1]\n",
    "# ])\n",
    "phi = np.eye(7)\n",
    "constant = np.zeros((7,))\n",
    "harmonies = [VtoI[\"I\"] for _ in range(20)] + [VtoI[\"v\"] for _ in range(20)] + [VtoI[\"I\"] for _ in range(20)]\n",
    "run_filter(\n",
    "    num_particles=10,\n",
    "    harmonies=harmonies,\n",
    "    phi=phi, constant=constant, epsilon_var=0.1,\n",
    "    max_alpha=10,\n",
    "    num_emission_particles=10,\n",
    "    burn_in=10\n",
    ")"
   ],
   "metadata": {
    "collapsed": false,
    "pycharm": {
     "name": "#%%\n"
    }
   }
  },
  {
   "cell_type": "code",
   "execution_count": 13,
   "outputs": [
    {
     "name": "stdout",
     "output_type": "stream",
     "text": [
      "[[0.46468785 0.05873762 0.58210654 0.54522324 0.32057549 0.23989644 0.57522986]\n",
      " [0.33012722 0.20022267 0.38416938 0.96559901 0.40883052 0.96637467 0.80161062]\n",
      " [0.75328325 0.41956762 0.97349363 0.79783165 0.76437107 0.42580715 0.10140916]\n",
      " [0.92318392 0.1609726  0.84441952 0.43539751 0.30102046 0.22009742 0.87477446]]\n"
     ]
    },
    {
     "ename": "TypeError",
     "evalue": "predict() missing 1 required positional argument: 'epsilon_var'",
     "output_type": "error",
     "traceback": [
      "\u001B[1;31m---------------------------------------------------------------------------\u001B[0m",
      "\u001B[1;31mTypeError\u001B[0m                                 Traceback (most recent call last)",
      "Input \u001B[1;32mIn [13]\u001B[0m, in \u001B[0;36m<cell line: 12>\u001B[1;34m()\u001B[0m\n\u001B[0;32m      1\u001B[0m particles \u001B[38;5;241m=\u001B[39m create_uniform_particles(\n\u001B[0;32m      2\u001B[0m     (\u001B[38;5;241m0\u001B[39m, \u001B[38;5;241m1\u001B[39m),\n\u001B[0;32m      3\u001B[0m     (\u001B[38;5;241m0\u001B[39m, \u001B[38;5;241m1\u001B[39m),\n\u001B[1;32m   (...)\u001B[0m\n\u001B[0;32m      9\u001B[0m     \u001B[38;5;241m4\u001B[39m\n\u001B[0;32m     10\u001B[0m )\n\u001B[0;32m     11\u001B[0m \u001B[38;5;28mprint\u001B[39m(particles)\n\u001B[1;32m---> 12\u001B[0m \u001B[43mpredict\u001B[49m\u001B[43m(\u001B[49m\u001B[43mparticles\u001B[49m\u001B[43m,\u001B[49m\u001B[43m \u001B[49m\u001B[43mnp\u001B[49m\u001B[38;5;241;43m.\u001B[39;49m\u001B[43meye\u001B[49m\u001B[43m(\u001B[49m\u001B[38;5;241;43m7\u001B[39;49m\u001B[43m)\u001B[49m\u001B[43m,\u001B[49m\u001B[43m \u001B[49m\u001B[38;5;241;43m0.01\u001B[39;49m\u001B[43m)\u001B[49m\n\u001B[0;32m     13\u001B[0m weights \u001B[38;5;241m=\u001B[39m np\u001B[38;5;241m.\u001B[39marray([\u001B[38;5;241m1\u001B[39m\u001B[38;5;241m/\u001B[39m\u001B[38;5;28mlen\u001B[39m(particles) \u001B[38;5;28;01mfor\u001B[39;00m _ \u001B[38;5;129;01min\u001B[39;00m \u001B[38;5;28mrange\u001B[39m(\u001B[38;5;28mlen\u001B[39m(particles))])\n\u001B[0;32m     14\u001B[0m \u001B[38;5;28mprint\u001B[39m(particles)\n",
      "\u001B[1;31mTypeError\u001B[0m: predict() missing 1 required positional argument: 'epsilon_var'"
     ]
    }
   ],
   "source": [
    "particles = create_uniform_particles(\n",
    "    (0, 1),\n",
    "    (0, 1),\n",
    "    (0, 1),\n",
    "    (0, 1),\n",
    "    (0, 1),\n",
    "    (0, 1),\n",
    "    (0, 1),\n",
    "    4\n",
    ")\n",
    "print(particles)\n",
    "predict(particles, np.eye(7), 0.01)\n",
    "weights = np.array([1/len(particles) for _ in range(len(particles))])\n",
    "print(particles)\n",
    "update(particles, 3, weights)\n",
    "print(weights)\n",
    "mean, var = estimate(particles, weights)\n",
    "print(mean)"
   ],
   "metadata": {
    "collapsed": false,
    "pycharm": {
     "name": "#%%\n"
    }
   }
  }
 ],
 "metadata": {
  "kernelspec": {
   "display_name": "Python 3",
   "language": "python",
   "name": "python3"
  },
  "language_info": {
   "codemirror_mode": {
    "name": "ipython",
    "version": 2
   },
   "file_extension": ".py",
   "mimetype": "text/x-python",
   "name": "python",
   "nbconvert_exporter": "python",
   "pygments_lexer": "ipython2",
   "version": "2.7.6"
  }
 },
 "nbformat": 4,
 "nbformat_minor": 0
}