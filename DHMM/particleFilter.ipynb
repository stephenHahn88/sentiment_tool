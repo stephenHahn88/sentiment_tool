{
 "cells": [
  {
   "cell_type": "code",
   "execution_count": 2,
   "metadata": {
    "collapsed": true,
    "pycharm": {
     "name": "#%%\n"
    }
   },
   "outputs": [
    {
     "data": {
      "text/plain": "<Figure size 432x288 with 1 Axes>",
      "image/png": "[encoded data removed]"
     },
     "metadata": {
      "needs_background": "light"
     },
     "output_type": "display_data"
    },
    {
     "name": "stdout",
     "output_type": "stream",
     "text": [
      "{'5:7:min': 0, '0:0:min': 1, '7:0:min': 2, '7:3:maj': 3, '8:11:maj': 4, '0:3:maj': 5, '0:5:min': 6, '7:4:dim': 7, '3:11:dim': 8, '8:0:maj': 9, '0:8:maj': 10, '7:8:maj': 11, '5:0:min': 12, '5:5:min': 13, 'none:none:none': 14, '5:0:maj': 15, '10:0:min': 16, '5:7:maj': 17, '7:7:maj': 18, '10:7:maj': 19, '0:5:maj': 20, '3:0:maj': 21, '8:7:maj': 22, '3:4:maj': 23, '0:2:maj': 24, '7:5:min': 25, '0:7:maj': 26, '10:2:maj': 27, '0:0:maj': 28, '7:2:dim': 29, '0:7:min': 30, 'START': -1, 'PAD': -2}\n",
      "{'anger': 0, 'fear': 1, 'sadness': 2, 'none': 3, 'irony': 4, 'love': 5, 'joy': 6}\n"
     ]
    }
   ],
   "source": [
    "\"\"\"\n",
    "BASED ON https://github.com/rlabbe/Kalman-and-Bayesian-Filters-in-Python/blob/master/12-Particle-Filters.ipynb\n",
    "\"\"\"\n",
    "\n",
    "import numpy as np\n",
    "from numpy.random import uniform, multivariate_normal, dirichlet, random, randint\n",
    "from numpy.linalg import norm\n",
    "\n",
    "from gatherMatrices import getMixtureEmissionMatrices\n",
    "from data.by_emotion_sample import extractEmotionTimeSeries, addRomanNumerals, addAlpha, addPseudoRomanNumeral\n",
    "import pickle\n",
    "\n",
    "np.set_printoptions(linewidth=100000)\n",
    "\n",
    "songNumber = 2\n",
    "\n",
    "df = extractEmotionTimeSeries(songNumber=songNumber, toDistribution=True)\n",
    "df = addRomanNumerals(df, songNum=songNumber)\n",
    "df = addAlpha(df, songNum=songNumber)\n",
    "df = addPseudoRomanNumeral(df)\n",
    "\n",
    "emissionMatrix, VtoI, ItoV, EtoI = getMixtureEmissionMatrices(df, plot=True)\n",
    "print(VtoI)\n",
    "print(EtoI)"
   ]
  },
  {
   "cell_type": "code",
   "execution_count": 3,
   "outputs": [],
   "source": [
    "def create_uniform_particles(\n",
    "        a_range, f_range, s_range,\n",
    "        n_range, i_range,\n",
    "        l_range, j_range,\n",
    "        N\n",
    "):\n",
    "    particles = np.empty((N, 7))\n",
    "    for i, (var, range) in enumerate(locals().items()):\n",
    "        if var[-5:] != \"range\": break\n",
    "        particles[:, i] = uniform(range[0], range[1], size=N)\n",
    "    # for i, row in enumerate(particles):\n",
    "    #     particles[i, :] = row / sum(row)\n",
    "\n",
    "    return particles"
   ],
   "metadata": {
    "collapsed": false,
    "pycharm": {
     "name": "#%%\n"
    }
   }
  },
  {
   "cell_type": "code",
   "execution_count": 4,
   "outputs": [],
   "source": [
    "def predict(particles, phi, constant, epsilon_var, max_alpha=10):\n",
    "    \"\"\"\n",
    "    Move alpha forward one time step according to alpha_t = phi * alpha_t-1 + epsilon\n",
    "    Note: this operation is in-place\n",
    "    \"\"\"\n",
    "    for i, alpha_t_1 in enumerate(particles):\n",
    "        while True:\n",
    "            epsilon = multivariate_normal(\n",
    "                mean=[0 for _ in range(len(alpha_t_1))],\n",
    "                cov=np.eye(len(alpha_t_1)) * epsilon_var\n",
    "            )\n",
    "            alpha_t = np.matmul(phi, alpha_t_1.T).squeeze() + epsilon + constant\n",
    "            # print(alpha_t)\n",
    "            # break\n",
    "            if np.all(alpha_t > 0) and np.all(alpha_t < max_alpha):\n",
    "                break\n",
    "\n",
    "        particles[i, :] = alpha_t\n"
   ],
   "metadata": {
    "collapsed": false,
    "pycharm": {
     "name": "#%%\n"
    }
   }
  },
  {
   "cell_type": "code",
   "execution_count": 5,
   "outputs": [],
   "source": [
    "def estimateParticleWeight(alpha: np.array, harmony: int, N=300) -> float:\n",
    "    \"\"\"\n",
    "    Approximate the weight of a given particle associated with a given harmony\n",
    "    :param alpha: the alpha value associated with the particle\n",
    "    :param harmony: the observed harmony\n",
    "    :param N: number of emission particles used to estimate the transition particle weights\n",
    "    :return: Estimated weight of the given particle\n",
    "    \"\"\"\n",
    "    samples = []\n",
    "    for _ in range(N):\n",
    "        p = dirichlet(alpha)\n",
    "        h_dist = np.matmul(p, emissionMatrix).squeeze()\n",
    "        h_dist = h_dist / norm(h_dist, ord=1)\n",
    "        samples.append(h_dist[harmony]) #TODO: check that harmony index is same throughout\n",
    "    return sum(samples) / len(samples)\n",
    "\n",
    "\n",
    "def update(particles, harmony, weights, num_emission_particles=300):\n",
    "    for i, particle in enumerate(particles):\n",
    "        weights[i] *= estimateParticleWeight(particle, harmony, num_emission_particles)\n",
    "    weights += 1e-300\n",
    "    weights /= sum(weights)"
   ],
   "metadata": {
    "collapsed": false,
    "pycharm": {
     "name": "#%%\n"
    }
   }
  },
  {
   "cell_type": "code",
   "execution_count": 6,
   "outputs": [],
   "source": [
    "def estimate(particles, weights):\n",
    "    mean = np.average(particles, weights=weights, axis=0)\n",
    "    var = np.average((particles - mean) ** 2, weights=weights, axis=0)\n",
    "    # mean = mean / sum(mean)\n",
    "    return mean, var"
   ],
   "metadata": {
    "collapsed": false,
    "pycharm": {
     "name": "#%%\n"
    }
   }
  },
  {
   "cell_type": "code",
   "execution_count": 7,
   "outputs": [],
   "source": [
    "def resample(particles, weights, indexes):\n",
    "    particles[:] = particles[indexes]\n",
    "    weights.resize(len(particles))\n",
    "    weights.fill(1.0 / len(weights))"
   ],
   "metadata": {
    "collapsed": false,
    "pycharm": {
     "name": "#%%\n"
    }
   }
  },
  {
   "cell_type": "code",
   "execution_count": 8,
   "outputs": [],
   "source": [
    "def effective_N(weights):\n",
    "    return 1.0 / np.sum(np.square(weights))"
   ],
   "metadata": {
    "collapsed": false,
    "pycharm": {
     "name": "#%%\n"
    }
   }
  },
  {
   "cell_type": "code",
   "execution_count": 9,
   "outputs": [],
   "source": [
    "from filterpy.monte_carlo import systematic_resample\n",
    "from numpy.random import randn\n",
    "import scipy.stats\n",
    "import matplotlib.pyplot as plt\n",
    "from tqdm.notebook import tqdm\n",
    "\n",
    "def filter_loop(\n",
    "        particles,\n",
    "        phi,\n",
    "        constant,\n",
    "        epsilon_var,\n",
    "        max_alpha,\n",
    "        harmony,\n",
    "        num_emission_particles,\n",
    "        num_particles,\n",
    "        weights\n",
    "):\n",
    "    predict(particles, phi, constant, epsilon_var, max_alpha)\n",
    "    update(particles, harmony, weights, num_emission_particles)\n",
    "\n",
    "    if effective_N(weights) < num_particles/2:\n",
    "        indexes = systematic_resample(weights)\n",
    "        resample(particles, weights, indexes)\n",
    "        assert np.allclose(weights, 1/num_particles)\n",
    "\n",
    "    mu, var = estimate(particles, weights)\n",
    "    return mu, var\n",
    "\n",
    "def run_filter(\n",
    "        num_particles: int,\n",
    "        harmonies: list[int],\n",
    "        phi: np.array=np.eye(7),\n",
    "        constant: np.array=np.zeros((7,)),\n",
    "        epsilon_var=0.1,\n",
    "        max_alpha=10,\n",
    "        num_emission_particles=300,\n",
    "        plot=True,\n",
    "        burn_in=10\n",
    "):\n",
    "    plt.figure()\n",
    "\n",
    "    particles = create_uniform_particles(\n",
    "        (0, max_alpha), (0, max_alpha), (0, max_alpha), (0, max_alpha),\n",
    "        (0, max_alpha), (0, max_alpha), (0, max_alpha),\n",
    "        num_particles\n",
    "    )\n",
    "    weights = np.ones(num_particles) / num_particles\n",
    "\n",
    "    estimates = []\n",
    "    for _ in (pbar := tqdm(range(burn_in), total=burn_in)):\n",
    "        pbar.set_description(f\"Burn in for {burn_in} steps\")\n",
    "        filter_loop(particles, phi, constant, epsilon_var, max_alpha, harmonies[0], num_emission_particles, num_particles, weights)\n",
    "    for i, harmony in (pbar := tqdm(enumerate(harmonies), total=len(harmonies))):\n",
    "        pbar.set_description(f\"Running filter\")\n",
    "        mu, var = filter_loop(particles, phi, constant, epsilon_var, max_alpha, harmony, num_emission_particles, num_particles, weights)\n",
    "        estimates.append(mu)\n",
    "\n",
    "    estimates = np.array(estimates)\n",
    "    print(estimates)\n",
    "    if plot:\n",
    "        plt.subplot(2, 1, 1)\n",
    "        plt.stackplot(\n",
    "            range(len(harmonies)),\n",
    "            estimates[:, 0], estimates[:, 1], estimates[:, 2],\n",
    "            estimates[:, 3], estimates[:, 4], estimates[:, 5], estimates[:, 6]\n",
    "        )\n",
    "        plt.subplot(2, 1, 2)\n",
    "        for col in estimates.T:\n",
    "            plt.plot(range(len(harmonies)), col, ls=(0, (1, 2)))\n",
    "        plt.show()\n",
    "\n"
   ],
   "metadata": {
    "collapsed": false,
    "pycharm": {
     "name": "#%%\n"
    }
   }
  },
  {
   "cell_type": "code",
   "execution_count": 10,
   "outputs": [],
   "source": [
    "from statsmodels.tsa.api import VAR\n",
    "import pandas as pd\n",
    "from timeSeries import loadAlphas, myVAR"
   ],
   "metadata": {
    "collapsed": false,
    "pycharm": {
     "name": "#%%\n"
    }
   }
  },
  {
   "cell_type": "code",
   "execution_count": 19,
   "outputs": [
    {
     "name": "stdout",
     "output_type": "stream",
     "text": [
      "[[ 9.360e-01  3.000e-02  2.400e-02  3.700e-02  5.400e-02  5.160e-01  4.200e-02]\n",
      " [-2.800e-02  9.170e-01  1.500e-02  7.000e-03  3.100e-02  2.810e-01  2.800e-02]\n",
      " [-1.470e-01 -9.000e-03  7.730e-01 -1.800e-02 -1.600e-02 -1.380e-01  6.000e-03]\n",
      " [ 1.016e+00 -8.300e-02  2.420e-01  9.290e-01  2.500e-02 -2.460e-01  1.750e-01]\n",
      " [ 3.490e-01  6.760e-01  4.720e-01 -1.720e-01  3.680e-01 -4.796e+00 -1.075e+00]\n",
      " [-8.900e-02 -1.000e-03 -7.100e-02  9.000e-03  3.500e-02  1.245e+00  3.800e-02]\n",
      " [-1.100e-01 -1.110e-01 -1.890e-01 -2.200e-02 -1.000e-02 -1.370e-01  1.001e+00]]\n",
      "[-0.234 -0.136 -0.034  0.072  0.154  1.291  0.253]\n"
     ]
    }
   ],
   "source": [
    "alphas: pd.DataFrame = loadAlphas(32, 3)\n",
    "alphas: pd.DataFrame = alphas.drop(columns=[\"index\"])\n",
    "phi, constant = myVAR(alphas, set_lag_num=1)\n",
    "# phi /= np.amax(np.abs(phi)) + 1\n",
    "phi = phi.round(3)\n",
    "# constant /= np.amax(np.abs(constant)) + 1\n",
    "constant = constant.round(3)\n",
    "print(phi)\n",
    "print(constant)"
   ],
   "metadata": {
    "collapsed": false,
    "pycharm": {
     "name": "#%%\n"
    }
   }
  },
  {
   "cell_type": "code",
   "execution_count": 21,
   "outputs": [
    {
     "data": {
      "text/plain": "  0%|          | 0/10 [00:00<?, ?it/s]",
      "application/vnd.jupyter.widget-view+json": {
       "version_major": 2,
       "version_minor": 0,
       "model_id": "c0f89a8892464d0aac4f61a59b5fd009"
      }
     },
     "metadata": {},
     "output_type": "display_data"
    },
    {
     "data": {
      "text/plain": "  0%|          | 0/60 [00:00<?, ?it/s]",
      "application/vnd.jupyter.widget-view+json": {
       "version_major": 2,
       "version_minor": 0,
       "model_id": "2d80fa14709c423b8d19e9fd74e8ce31"
      }
     },
     "metadata": {},
     "output_type": "display_data"
    },
    {
     "name": "stdout",
     "output_type": "stream",
     "text": [
      "[[1.31307526 1.48798036 1.37986269 4.15457298 3.48098172 4.71545918 8.13255068]\n",
      " [1.24972232 1.44095057 1.36055784 4.11849925 3.37033052 4.62923829 8.19966248]\n",
      " [1.19016447 1.3763857  1.32314092 4.0799441  3.27956941 4.58501112 8.27459788]\n",
      " [1.17850005 1.31430333 1.28773232 4.06774438 3.20785113 4.54327481 8.34055188]\n",
      " [1.16992049 1.2758889  1.26077112 4.05691347 3.14499919 4.55844488 8.41296682]\n",
      " [1.14876545 1.22561234 1.2237411  4.06916164 3.08019472 4.52828799 8.4456717 ]\n",
      " [1.10694522 1.20058426 1.15888497 4.08828362 2.96868587 4.50680736 8.49523307]\n",
      " [1.064217   1.20395438 1.13221818 4.08296428 2.86749403 4.50234492 8.56922613]\n",
      " [1.03403661 1.17462221 1.09147845 4.0742689  2.77119139 4.5186512  8.63246056]\n",
      " [1.01216829 1.15778833 1.05986099 4.04734679 2.70832821 4.53720323 8.67890925]\n",
      " [1.00829477 1.12097489 1.02932951 4.03594752 2.6722906  4.55877749 8.7206008 ]\n",
      " [1.00839651 1.11328979 1.02444673 4.07429151 2.63835968 4.58369516 8.68915598]\n",
      " [1.04728638 1.07730224 1.02170438 4.01476542 2.56703708 4.53497398 8.70798908]\n",
      " [1.04943382 1.0583015  1.01263358 4.02014184 2.5788298  4.54747209 8.72958751]\n",
      " [1.0736367  1.05388939 1.00137228 4.05006458 2.5743019  4.54340447 8.72624421]\n",
      " [1.0862827  1.05170412 0.98901514 4.03936186 2.54453134 4.52193004 8.71657489]\n",
      " [1.05661161 1.05405595 0.95962407 4.05095461 2.51501059 4.52134262 8.72667396]\n",
      " [1.07561781 1.06598441 0.97694145 4.04446771 2.55582275 4.5508182  8.70610404]\n",
      " [1.09409919 1.03290773 0.96171712 4.07724036 2.57457571 4.54705327 8.72417466]\n",
      " [1.06420667 1.06299432 0.95162749 4.14011251 2.60177548 4.54901055 8.71112165]\n",
      " [1.04074764 1.67331664 0.91771515 4.15571421 2.44617184 4.55097975 8.49504599]\n",
      " [1.04858649 2.17260591 0.89895646 4.22801479 2.55030835 4.51670743 8.28135576]\n",
      " [1.02106985 2.6116777  0.88919662 4.38949255 2.68883271 4.53958881 8.08845722]\n",
      " [0.99673599 2.92171964 0.86122719 4.4926744  2.82414196 4.60545043 7.84070852]\n",
      " [0.95890133 3.19039559 0.8366826  4.65517581 2.97595783 4.71787768 7.54737661]\n",
      " [0.93631292 3.46471684 0.7982387  4.71298641 3.20843293 4.78312926 7.25291812]\n",
      " [0.87857655 3.71726646 0.8057067  4.69356423 3.51995618 4.84009813 6.90607758]\n",
      " [0.90593521 3.99376632 0.78546004 4.58473066 3.86459084 4.9438028  6.55586227]\n",
      " [0.88533103 4.21562669 0.79886306 4.45798768 4.24974806 5.00926325 6.14574007]\n",
      " [0.86776923 4.42575941 0.8342624  4.32670278 4.6558286  5.04751009 5.79995184]\n",
      " [0.85270585 4.55515983 0.81910616 4.12594995 5.07178968 5.0117069  5.42459434]\n",
      " [0.81767667 4.76789276 0.90006731 3.9117099  5.50018994 4.9692233  5.08818321]\n",
      " [0.79065886 4.8745699  0.88927237 3.70703761 5.86483824 4.95245151 4.7542484 ]\n",
      " [0.76977551 5.01131577 0.88840132 3.49883622 6.18956672 4.93876257 4.43137013]\n",
      " [0.77088389 5.14380328 0.87314828 3.30154762 6.43902102 4.9121414  4.1194865 ]\n",
      " [0.79477851 5.23208289 0.88727263 3.11016605 6.70256669 4.88706001 3.83566473]\n",
      " [0.81833706 5.33670615 0.90699762 2.96280222 6.89303285 4.81357195 3.58316188]\n",
      " [0.8036517  5.4645743  0.8933479  2.84878751 7.04472953 4.81167647 3.39337059]\n",
      " [0.85323817 5.53182108 0.8762236  2.74531717 7.17264029 4.82306915 3.19587603]\n",
      " [0.83191099 5.63180449 0.85996942 2.64284016 7.26006239 4.87759068 3.01865199]\n",
      " [0.86854508 5.54912314 0.88913486 2.75530677 7.16374314 4.86007748 3.37864017]\n",
      " [0.88846509 5.46205822 0.91273722 2.89398417 7.05022737 4.83795186 3.72853425]\n",
      " [0.87328046 5.33660204 0.92117046 3.01923061 6.93637461 4.89237548 4.03462929]\n",
      " [0.932473   5.22756231 0.96448428 3.15080121 6.78136585 4.94253753 4.39887345]\n",
      " [0.91039075 5.06138466 1.03626566 3.22507814 6.55785675 4.98119587 4.74147042]\n",
      " [0.89555785 4.88584354 0.99253127 3.34203429 6.31614002 5.02054219 5.08228204]\n",
      " [0.89008082 4.75302927 1.01539537 3.39893016 6.08140045 4.99500482 5.41742437]\n",
      " [0.93357852 4.59332232 0.99745862 3.411604   5.81709708 5.01221819 5.72087327]\n",
      " [0.96069485 4.40677072 1.0409283  3.35141286 5.55476106 5.02694275 6.04898377]\n",
      " [1.0071897  4.24735745 1.04238989 3.30884726 5.31274146 5.04031035 6.34323134]\n",
      " [0.97643724 4.069363   1.03107463 3.24657506 5.01858775 4.97269222 6.55776421]\n",
      " [0.9966887  3.92269132 1.02477227 3.14914362 4.7860912  4.94328571 6.75768888]\n",
      " [0.99672462 3.7493556  1.00647417 3.07659981 4.59515777 4.94788899 6.91170044]\n",
      " [0.9851584  3.56713701 0.98283933 2.98120819 4.36489908 4.8765189  7.01972573]\n",
      " [1.00390537 3.41052461 0.95224413 2.90590467 4.20011598 4.82024619 7.13888445]\n",
      " [0.99138656 3.2800282  0.962523   2.85962818 4.10109355 4.76160708 7.25711862]\n",
      " [1.01605874 3.0988393  1.00389055 2.83464444 3.99360894 4.75363951 7.37425976]\n",
      " [1.02811485 2.98266225 0.98716532 2.84686835 3.96862133 4.69768322 7.49716753]\n",
      " [0.99839598 2.82408824 0.96099981 2.83007346 3.91637606 4.68869571 7.5792146 ]\n",
      " [0.97706342 2.6674764  0.9390408  2.79877821 3.90930742 4.64265636 7.6280925 ]]\n"
     ]
    },
    {
     "data": {
      "text/plain": "<Figure size 432x288 with 2 Axes>",
      "image/png": "[encoded data removed]"
     },
     "metadata": {
      "needs_background": "light"
     },
     "output_type": "display_data"
    }
   ],
   "source": [
    "# phi = np.array([\n",
    "#     [1, 0, 0, 0, 0, 0, 0],\n",
    "#     [0, 1, 0, 0, 0, 0, 0],\n",
    "#     [0, 0, 1, 0, 0, 0, 0],\n",
    "#     [0, 0, 0, 1, 0, 0, 0],\n",
    "#     [0, 0, 0, 0, 1, 0, 0],\n",
    "#     [0, 0, 0, 0, 0, 1, 0],\n",
    "#     [0, 0, 0, 0, 0, 0, 1]\n",
    "# ])\n",
    "phi = np.eye(7)\n",
    "constant = np.zeros((7,))\n",
    "harmonies = [VtoI[\"0:0:maj\"] for _ in range(20)] + [VtoI[\"0:3:maj\"] for _ in range(20)] + [VtoI[\"0:0:maj\"] for _ in range(20)]\n",
    "run_filter(\n",
    "    num_particles=300,\n",
    "    harmonies=harmonies,\n",
    "    phi=phi, constant=constant, epsilon_var=0.1,\n",
    "    max_alpha=10,\n",
    "    num_emission_particles=300,\n",
    "    burn_in=10\n",
    ")"
   ],
   "metadata": {
    "collapsed": false,
    "pycharm": {
     "name": "#%%\n"
    }
   }
  },
  {
   "cell_type": "code",
   "execution_count": null,
   "outputs": [],
   "source": [
    "particles = create_uniform_particles(\n",
    "    (0, 1),\n",
    "    (0, 1),\n",
    "    (0, 1),\n",
    "    (0, 1),\n",
    "    (0, 1),\n",
    "    (0, 1),\n",
    "    (0, 1),\n",
    "    4\n",
    ")\n",
    "print(particles)\n",
    "predict(particles, np.eye(7), 0.01)\n",
    "weights = np.array([1/len(particles) for _ in range(len(particles))])\n",
    "print(particles)\n",
    "update(particles, 3, weights)\n",
    "print(weights)\n",
    "mean, var = estimate(particles, weights)\n",
    "print(mean)"
   ],
   "metadata": {
    "collapsed": false,
    "pycharm": {
     "name": "#%%\n"
    }
   }
  }
 ],
 "metadata": {
  "kernelspec": {
   "display_name": "Python 3",
   "language": "python",
   "name": "python3"
  },
  "language_info": {
   "codemirror_mode": {
    "name": "ipython",
    "version": 2
   },
   "file_extension": ".py",
   "mimetype": "text/x-python",
   "name": "python",
   "nbconvert_exporter": "python",
   "pygments_lexer": "ipython2",
   "version": "2.7.6"
  }
 },
 "nbformat": 4,
 "nbformat_minor": 0
}