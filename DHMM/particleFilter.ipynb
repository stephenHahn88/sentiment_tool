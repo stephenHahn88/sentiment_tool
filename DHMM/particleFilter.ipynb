{
 "cells": [
  {
   "cell_type": "code",
   "execution_count": 48,
   "metadata": {
    "collapsed": true,
    "pycharm": {
     "name": "#%%\n"
    }
   },
   "outputs": [],
   "source": [
    "\"\"\"\n",
    "BASED ON https://github.com/rlabbe/Kalman-and-Bayesian-Filters-in-Python/blob/master/12-Particle-Filters.ipynb\n",
    "\"\"\"\n",
    "\n",
    "import numpy as np\n",
    "from numpy.random import uniform, multivariate_normal, dirichlet, random\n",
    "from numpy.linalg import norm\n",
    "from gatherMatrices import getMixtureEmissionMatrices\n",
    "import pickle\n",
    "\n",
    "np.set_printoptions(linewidth=100000)\n",
    "\n",
    "with open(\"../data/allDF.pickle\", \"rb\") as f:\n",
    "    df = pickle.load(f)\n",
    "\n",
    "emissionMatrix = getMixtureEmissionMatrices(df)"
   ]
  },
  {
   "cell_type": "code",
   "execution_count": 49,
   "outputs": [],
   "source": [
    "def create_uniform_particles(\n",
    "        a_range, f_range, s_range,\n",
    "        n_range, i_range,\n",
    "        l_range, j_range,\n",
    "        N\n",
    "):\n",
    "    particles = np.empty((N, 7))\n",
    "    for i, (var, range) in enumerate(locals().items()):\n",
    "        if var[-5:] != \"range\": break\n",
    "        particles[:, i] = uniform(range[0], range[1], size=N)\n",
    "    for i, row in enumerate(particles):\n",
    "        particles[i, :] = row / sum(row)\n",
    "\n",
    "    return particles"
   ],
   "metadata": {
    "collapsed": false,
    "pycharm": {
     "name": "#%%\n"
    }
   }
  },
  {
   "cell_type": "code",
   "execution_count": 50,
   "outputs": [],
   "source": [
    "def predict(particles, phi, epsilon_var):\n",
    "    \"\"\"\n",
    "    Move alpha forward one time step according to alpha_t = phi * alpha_t-1 + epsilon\n",
    "    Note: this operation is in-place\n",
    "    \"\"\"\n",
    "    for i, alpha_t_1 in enumerate(particles):\n",
    "        while True:\n",
    "            epsilon = multivariate_normal(\n",
    "                mean=[0 for _ in range(len(alpha_t_1))],\n",
    "                cov=np.eye(len(alpha_t_1)) * epsilon_var\n",
    "            )\n",
    "            alpha_t = np.matmul(phi, alpha_t_1.T).squeeze() + epsilon\n",
    "            if np.all(alpha_t > 0):\n",
    "                break\n",
    "\n",
    "        particles[i, :] = alpha_t\n"
   ],
   "metadata": {
    "collapsed": false,
    "pycharm": {
     "name": "#%%\n"
    }
   }
  },
  {
   "cell_type": "code",
   "execution_count": 51,
   "outputs": [],
   "source": [
    "def estimateParticleWeight(alpha: np.array, harmony: int, N=300) -> float:\n",
    "    \"\"\"\n",
    "    Approximate the weight of a given particle associated with a given harmony\n",
    "    :param alpha: the alpha value associated with the particle\n",
    "    :param harmony: the observed harmony\n",
    "    :param N: number of emission particles used to estimate the transition particle weights\n",
    "    :return: Estimated weight of the given particle\n",
    "    \"\"\"\n",
    "    samples = []\n",
    "    for _ in range(N):\n",
    "        p = dirichlet(alpha)\n",
    "        h_dist = np.matmul(p, emissionMatrix).squeeze()\n",
    "        h_dist = h_dist / norm(h_dist, ord=1)\n",
    "        samples.append(h_dist[harmony]) #TODO: check that harmony index is same throughout\n",
    "    return sum(samples) / len(samples)\n",
    "\n",
    "\n",
    "def update(particles, harmony, weights):\n",
    "    for i, particle in enumerate(particles):\n",
    "        weights[i] *= estimateParticleWeight(particle, harmony, 300)\n",
    "    weights += 1e-300\n",
    "    weights /= sum(weights)"
   ],
   "metadata": {
    "collapsed": false,
    "pycharm": {
     "name": "#%%\n"
    }
   }
  },
  {
   "cell_type": "code",
   "execution_count": 83,
   "outputs": [],
   "source": [
    "def estimate(particles, weights):\n",
    "    mean = np.average(particles, weights=weights, axis=0)\n",
    "    var = np.average((particles - mean) ** 2, weights=weights, axis=0)\n",
    "    mean = mean / sum(mean)\n",
    "    return mean, var"
   ],
   "metadata": {
    "collapsed": false,
    "pycharm": {
     "name": "#%%\n"
    }
   }
  },
  {
   "cell_type": "code",
   "execution_count": 53,
   "outputs": [],
   "source": [
    "def resample(particles, weights, indexes):\n",
    "    particles[:] = particles[indexes]\n",
    "    weights.resize(len(particles))\n",
    "    weights.fill(1.0 / len(weights))"
   ],
   "metadata": {
    "collapsed": false,
    "pycharm": {
     "name": "#%%\n"
    }
   }
  },
  {
   "cell_type": "code",
   "execution_count": 54,
   "outputs": [],
   "source": [
    "def effective_N(weights):\n",
    "    return 1.0 / np.sum(np.square(weights))"
   ],
   "metadata": {
    "collapsed": false,
    "pycharm": {
     "name": "#%%\n"
    }
   }
  },
  {
   "cell_type": "code",
   "execution_count": 93,
   "outputs": [],
   "source": [
    "from filterpy.monte_carlo import systematic_resample\n",
    "from numpy.random import randn\n",
    "import scipy.stats\n",
    "import matplotlib.pyplot as plt\n",
    "from tqdm.notebook import tqdm\n",
    "\n",
    "def run_filter(num_particles: int, harmonies: list[int], phi: np.array=np.eye(7), plot=True):\n",
    "    num_harmonies = len(harmonies)\n",
    "\n",
    "    plt.figure()\n",
    "\n",
    "    particles = create_uniform_particles(\n",
    "        (0, 1), (0, 1), (0, 1), (0, 1),\n",
    "        (0, 1), (0, 1), (0, 1),\n",
    "        num_particles\n",
    "    )\n",
    "    weights = np.ones(num_particles) / num_particles\n",
    "\n",
    "    estimates = []\n",
    "    for i, harmony in tqdm(enumerate(harmonies), total=len(harmonies)):\n",
    "        predict(particles, phi, 0.01)\n",
    "        update(particles, harmony, weights)\n",
    "\n",
    "        if effective_N(weights) < num_particles/2:\n",
    "            indexes = systematic_resample(weights)\n",
    "            resample(particles, weights, indexes)\n",
    "            assert np.allclose(weights, 1/num_particles)\n",
    "\n",
    "        mu, var = estimate(particles, weights)\n",
    "        estimates.append(mu)\n",
    "\n",
    "    estimates = np.array(estimates)\n",
    "    print(estimates)\n",
    "    if plot:\n",
    "        plt.stackplot(\n",
    "            range(len(harmonies)),\n",
    "            estimates[:, 0], estimates[:, 1], estimates[:, 2],\n",
    "            estimates[:, 3], estimates[:, 4], estimates[:, 5], estimates[:, 6]\n",
    "        )\n",
    "        plt.show()\n",
    "\n"
   ],
   "metadata": {
    "collapsed": false,
    "pycharm": {
     "name": "#%%\n"
    }
   }
  },
  {
   "cell_type": "code",
   "execution_count": 95,
   "outputs": [
    {
     "data": {
      "text/plain": "  0%|          | 0/4 [00:00<?, ?it/s]",
      "application/vnd.jupyter.widget-view+json": {
       "version_major": 2,
       "version_minor": 0,
       "model_id": "a671cb77fc814039a495f9e333523e65"
      }
     },
     "metadata": {},
     "output_type": "display_data"
    },
    {
     "name": "stdout",
     "output_type": "stream",
     "text": [
      "[[0.24054193 0.13050705 0.12300637 0.11722625 0.13029502 0.13213105 0.12629234]\n",
      " [0.35079404 0.10698055 0.1042405  0.11615614 0.11342964 0.10641428 0.10198485]\n",
      " [0.51728993 0.08800367 0.07614702 0.08286928 0.08560686 0.07764497 0.07243828]\n",
      " [0.65785542 0.06168322 0.05342097 0.05733553 0.05882369 0.05744743 0.05343373]]\n"
     ]
    },
    {
     "data": {
      "text/plain": "<Figure size 432x288 with 1 Axes>",
      "image/png": "[encoded data removed]"
     },
     "metadata": {
      "needs_background": "light"
     },
     "output_type": "display_data"
    }
   ],
   "source": [
    "phi = np.array([\n",
    "    [2, 0, 0, 0, 0, 0, 0],\n",
    "    [0, 1, 0, 0, 0, 0, 0],\n",
    "    [0, 0, 1, 0, 0, 0, 0],\n",
    "    [0, 0, 0, 1, 0, 0, 0],\n",
    "    [0, 0, 0, 0, 1, 0, 0],\n",
    "    [0, 0, 0, 0, 0, 1, 0],\n",
    "    [0, 0, 0, 0, 0, 0, 1]\n",
    "])\n",
    "run_filter(num_particles=900, harmonies=[2, 1, 4, 3], phi=phi)"
   ],
   "metadata": {
    "collapsed": false,
    "pycharm": {
     "name": "#%%\n"
    }
   }
  },
  {
   "cell_type": "code",
   "execution_count": 57,
   "outputs": [
    {
     "name": "stdout",
     "output_type": "stream",
     "text": [
      "[[0.15662511 0.10943273 0.26382354 0.09743902 0.17249618 0.02689045 0.17329298]\n",
      " [0.18751357 0.17457525 0.14437346 0.02689302 0.21220926 0.06212349 0.19231194]\n",
      " [0.26278471 0.03107636 0.19660692 0.01885299 0.25717089 0.14584382 0.08766431]\n",
      " [0.24458454 0.14561847 0.18588079 0.00888036 0.23131075 0.09337632 0.09034877]]\n",
      "[[0.18804403 0.1903198  0.30768432 0.08393881 0.21161682 0.01807644 0.14459576]\n",
      " [0.23379157 0.24487877 0.16439574 0.17479049 0.21248614 0.20454644 0.28553186]\n",
      " [0.44327932 0.07736522 0.16289862 0.03957032 0.33614639 0.19024221 0.24029595]\n",
      " [0.31804753 0.12164248 0.06352384 0.0687145  0.34781398 0.01192982 0.22233479]]\n",
      "[0.21096883 0.2650006  0.28113889 0.24289168]\n",
      "[0.30350049 0.15634088 0.16970332 0.091843   0.27993845 0.11440063 0.22773112]\n"
     ]
    }
   ],
   "source": [
    "particles = create_uniform_particles(\n",
    "    (0, 1),\n",
    "    (0, 1),\n",
    "    (0, 1),\n",
    "    (0, 1),\n",
    "    (0, 1),\n",
    "    (0, 1),\n",
    "    (0, 1),\n",
    "    4\n",
    ")\n",
    "print(particles)\n",
    "predict(particles, np.eye(7), 0.01)\n",
    "weights = np.array([1/len(particles) for _ in range(len(particles))])\n",
    "print(particles)\n",
    "update(particles, 3, weights)\n",
    "print(weights)\n",
    "mean, var = estimate(particles, weights)\n",
    "print(mean)"
   ],
   "metadata": {
    "collapsed": false,
    "pycharm": {
     "name": "#%%\n"
    }
   }
  }
 ],
 "metadata": {
  "kernelspec": {
   "display_name": "Python 3",
   "language": "python",
   "name": "python3"
  },
  "language_info": {
   "codemirror_mode": {
    "name": "ipython",
    "version": 2
   },
   "file_extension": ".py",
   "mimetype": "text/x-python",
   "name": "python",
   "nbconvert_exporter": "python",
   "pygments_lexer": "ipython2",
   "version": "2.7.6"
  }
 },
 "nbformat": 4,
 "nbformat_minor": 0
}