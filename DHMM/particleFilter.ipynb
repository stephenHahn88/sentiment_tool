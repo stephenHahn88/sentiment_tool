{
 "cells": [
  {
   "cell_type": "code",
   "execution_count": 2,
   "metadata": {
    "collapsed": true,
    "pycharm": {
     "name": "#%%\n"
    }
   },
   "outputs": [],
   "source": [
    "\"\"\"\n",
    "BASED ON https://github.com/rlabbe/Kalman-and-Bayesian-Filters-in-Python/blob/master/12-Particle-Filters.ipynb\n",
    "\"\"\"\n",
    "\n",
    "import numpy as np\n",
    "from numpy.random import uniform, multivariate_normal, dirichlet, random\n",
    "from numpy.linalg import norm\n",
    "from gatherMatrices import getMixtureEmissionMatrices\n",
    "import pickle\n",
    "\n",
    "np.set_printoptions(linewidth=100000)\n",
    "\n",
    "with open(\"../data/allDF.pickle\", \"rb\") as f:\n",
    "    df = pickle.load(f)\n",
    "\n",
    "emissionMatrix = getMixtureEmissionMatrices(df)"
   ]
  },
  {
   "cell_type": "code",
   "execution_count": 3,
   "outputs": [],
   "source": [
    "def create_uniform_particles(\n",
    "        a_range, f_range, s_range,\n",
    "        n_range, i_range,\n",
    "        l_range, j_range,\n",
    "        N\n",
    "):\n",
    "    particles = np.empty((N, 7))\n",
    "    for i, (var, range) in enumerate(locals().items()):\n",
    "        if var[-5:] != \"range\": break\n",
    "        particles[:, i] = uniform(range[0], range[1], size=N)\n",
    "    for i, row in enumerate(particles):\n",
    "        particles[i, :] = row / sum(row)\n",
    "\n",
    "    return particles"
   ],
   "metadata": {
    "collapsed": false,
    "pycharm": {
     "name": "#%%\n"
    }
   }
  },
  {
   "cell_type": "code",
   "execution_count": 4,
   "outputs": [],
   "source": [
    "def predict(particles, phi, epsilon_var):\n",
    "    \"\"\"\n",
    "    Move alpha forward one time step according to alpha_t = phi * alpha_t-1 + epsilon\n",
    "    Note: this operation is in-place\n",
    "    \"\"\"\n",
    "    for i, alpha_t_1 in enumerate(particles):\n",
    "        while True:\n",
    "            epsilon = multivariate_normal(\n",
    "                mean=[0 for _ in range(len(alpha_t_1))],\n",
    "                cov=np.eye(len(alpha_t_1)) * epsilon_var\n",
    "            )\n",
    "            alpha_t = np.matmul(phi, alpha_t_1.T).squeeze() + epsilon\n",
    "            if np.all(alpha_t > 0):\n",
    "                break\n",
    "\n",
    "        particles[i, :] = alpha_t\n"
   ],
   "metadata": {
    "collapsed": false,
    "pycharm": {
     "name": "#%%\n"
    }
   }
  },
  {
   "cell_type": "code",
   "execution_count": 5,
   "outputs": [],
   "source": [
    "def estimateParticleWeight(alpha: np.array, harmony: int, N=300) -> float:\n",
    "    \"\"\"\n",
    "    Approximate the weight of a given particle associated with a given harmony\n",
    "    :param alpha: the alpha value associated with the particle\n",
    "    :param harmony: the observed harmony\n",
    "    :param N: number of emission particles used to estimate the transition particle weights\n",
    "    :return: Estimated weight of the given particle\n",
    "    \"\"\"\n",
    "    samples = []\n",
    "    for _ in range(N):\n",
    "        p = dirichlet(alpha)\n",
    "        h_dist = np.matmul(p, emissionMatrix).squeeze()\n",
    "        h_dist = h_dist / norm(h_dist, ord=1)\n",
    "        samples.append(h_dist[harmony]) #TODO: check that harmony index is same throughout\n",
    "    return sum(samples) / len(samples)\n",
    "\n",
    "\n",
    "def update(particles, harmony, weights):\n",
    "    for i, particle in enumerate(particles):\n",
    "        weights[i] *= estimateParticleWeight(particle, harmony, 300)\n",
    "    weights += 1e-300\n",
    "    weights /= sum(weights)"
   ],
   "metadata": {
    "collapsed": false,
    "pycharm": {
     "name": "#%%\n"
    }
   }
  },
  {
   "cell_type": "code",
   "execution_count": 6,
   "outputs": [],
   "source": [
    "def estimate(particles, weights):\n",
    "    mean = np.average(particles, weights=weights, axis=0)\n",
    "    var = np.average((particles - mean) ** 2, weights=weights, axis=0)\n",
    "    # mean = mean / sum(mean)\n",
    "    return mean, var"
   ],
   "metadata": {
    "collapsed": false,
    "pycharm": {
     "name": "#%%\n"
    }
   }
  },
  {
   "cell_type": "code",
   "execution_count": 7,
   "outputs": [],
   "source": [
    "def resample(particles, weights, indexes):\n",
    "    particles[:] = particles[indexes]\n",
    "    weights.resize(len(particles))\n",
    "    weights.fill(1.0 / len(weights))"
   ],
   "metadata": {
    "collapsed": false,
    "pycharm": {
     "name": "#%%\n"
    }
   }
  },
  {
   "cell_type": "code",
   "execution_count": 8,
   "outputs": [],
   "source": [
    "def effective_N(weights):\n",
    "    return 1.0 / np.sum(np.square(weights))"
   ],
   "metadata": {
    "collapsed": false,
    "pycharm": {
     "name": "#%%\n"
    }
   }
  },
  {
   "cell_type": "code",
   "execution_count": 36,
   "outputs": [],
   "source": [
    "from filterpy.monte_carlo import systematic_resample\n",
    "from numpy.random import randn\n",
    "import scipy.stats\n",
    "import matplotlib.pyplot as plt\n",
    "from tqdm.notebook import tqdm\n",
    "\n",
    "def run_filter(num_particles: int, harmonies: list[int], phi: np.array=np.eye(7), epsilon_var=0.1, plot=True):\n",
    "    plt.figure()\n",
    "\n",
    "    particles = create_uniform_particles(\n",
    "        (0, 2), (0, 2), (0, 2), (0, 2),\n",
    "        (0, 2), (0, 2), (0, 2),\n",
    "        num_particles\n",
    "    )\n",
    "    weights = np.ones(num_particles) / num_particles\n",
    "\n",
    "    estimates = []\n",
    "    for i, harmony in tqdm(enumerate(harmonies), total=len(harmonies)):\n",
    "        predict(particles, phi, epsilon_var)\n",
    "        update(particles, harmony, weights)\n",
    "\n",
    "        if effective_N(weights) < num_particles/2:\n",
    "            indexes = systematic_resample(weights)\n",
    "            resample(particles, weights, indexes)\n",
    "            assert np.allclose(weights, 1/num_particles)\n",
    "\n",
    "        mu, var = estimate(particles, weights)\n",
    "        estimates.append(mu)\n",
    "\n",
    "    estimates = np.array(estimates)\n",
    "    print(estimates)\n",
    "    if plot:\n",
    "        plt.subplot(2, 1, 1)\n",
    "        plt.stackplot(\n",
    "            range(len(harmonies)),\n",
    "            estimates[:, 0], estimates[:, 1], estimates[:, 2],\n",
    "            estimates[:, 3], estimates[:, 4], estimates[:, 5], estimates[:, 6]\n",
    "        )\n",
    "        plt.subplot(2, 1, 2)\n",
    "        for col in estimates.T:\n",
    "            plt.plot(range(len(harmonies)), col, ls=(0, (1, 2)))\n",
    "        plt.show()\n",
    "\n"
   ],
   "metadata": {
    "collapsed": false,
    "pycharm": {
     "name": "#%%\n"
    }
   }
  },
  {
   "cell_type": "code",
   "execution_count": 37,
   "outputs": [
    {
     "data": {
      "text/plain": "  0%|          | 0/4 [00:00<?, ?it/s]",
      "application/vnd.jupyter.widget-view+json": {
       "version_major": 2,
       "version_minor": 0,
       "model_id": "2d0233378f8f40a893b9214cff5aab35"
      }
     },
     "metadata": {},
     "output_type": "display_data"
    },
    {
     "name": "stdout",
     "output_type": "stream",
     "text": [
      "[[0.31364143 0.34507058 0.33139608 0.29424194 0.30426993 0.35423097 0.30054167]\n",
      " [0.45851123 0.48378003 0.46013706 0.37924152 0.38821725 0.44348666 0.48554759]\n",
      " [0.49760381 0.54364238 0.49392177 0.43565389 0.51371953 0.54692092 0.62551953]\n",
      " [0.57086175 0.66031315 0.53117335 0.44109107 0.55199374 0.61478577 0.65505392]]\n"
     ]
    },
    {
     "data": {
      "text/plain": "<Figure size 432x288 with 2 Axes>",
      "image/png": "[encoded data removed]"
     },
     "metadata": {
      "needs_background": "light"
     },
     "output_type": "display_data"
    }
   ],
   "source": [
    "phi = np.array([\n",
    "    [1, 0, 0, 0, 0, 0, 0],\n",
    "    [0, 1, 0, 0, 0, 0, 0],\n",
    "    [0, 0, 1, 0, 0, 0, 0],\n",
    "    [0, 0, 0, 1, 0, 0, 0],\n",
    "    [0, 0, 0, 0, 1, 0, 0],\n",
    "    [0, 0, 0, 0, 0, 1, 0],\n",
    "    [0, 0, 0, 0, 0, 0, 1]\n",
    "])\n",
    "run_filter(num_particles=100, harmonies=[2, 1, 4, 3], phi=phi, epsilon_var=0.1)"
   ],
   "metadata": {
    "collapsed": false,
    "pycharm": {
     "name": "#%%\n"
    }
   }
  },
  {
   "cell_type": "code",
   "execution_count": 11,
   "outputs": [
    {
     "name": "stdout",
     "output_type": "stream",
     "text": [
      "[[0.11717248 0.17443584 0.09908921 0.20233182 0.10863522 0.18837073 0.10996471]\n",
      " [0.2078822  0.06165495 0.303865   0.30597952 0.01280167 0.04432445 0.06349222]\n",
      " [0.17015462 0.09615777 0.23265204 0.17527455 0.02923204 0.15835481 0.13817418]\n",
      " [0.1592674  0.12075631 0.20815287 0.01886373 0.35685798 0.08898948 0.04711223]]\n",
      "[[0.30118969 0.18433459 0.15492337 0.00794328 0.07338533 0.16774686 0.02282496]\n",
      " [0.16969931 0.11225779 0.48429194 0.41524187 0.01504697 0.11767608 0.11813256]\n",
      " [0.27745909 0.28851586 0.26115981 0.19310832 0.16147207 0.25942432 0.08623627]\n",
      " [0.06598431 0.01152565 0.3234823  0.12631325 0.48346089 0.20751423 0.05579159]]\n",
      "[0.31071164 0.18637491 0.27680747 0.22610597]\n",
      "[0.21693303 0.16066631 0.28382863 0.16187274 0.17961612 0.19278357 0.06559458]\n"
     ]
    }
   ],
   "source": [
    "particles = create_uniform_particles(\n",
    "    (0, 1),\n",
    "    (0, 1),\n",
    "    (0, 1),\n",
    "    (0, 1),\n",
    "    (0, 1),\n",
    "    (0, 1),\n",
    "    (0, 1),\n",
    "    4\n",
    ")\n",
    "print(particles)\n",
    "predict(particles, np.eye(7), 0.01)\n",
    "weights = np.array([1/len(particles) for _ in range(len(particles))])\n",
    "print(particles)\n",
    "update(particles, 3, weights)\n",
    "print(weights)\n",
    "mean, var = estimate(particles, weights)\n",
    "print(mean)"
   ],
   "metadata": {
    "collapsed": false,
    "pycharm": {
     "name": "#%%\n"
    }
   }
  }
 ],
 "metadata": {
  "kernelspec": {
   "display_name": "Python 3",
   "language": "python",
   "name": "python3"
  },
  "language_info": {
   "codemirror_mode": {
    "name": "ipython",
    "version": 2
   },
   "file_extension": ".py",
   "mimetype": "text/x-python",
   "name": "python",
   "nbconvert_exporter": "python",
   "pygments_lexer": "ipython2",
   "version": "2.7.6"
  }
 },
 "nbformat": 4,
 "nbformat_minor": 0
}